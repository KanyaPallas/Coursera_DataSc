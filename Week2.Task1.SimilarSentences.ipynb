{
 "cells": [
  {
   "cell_type": "code",
   "execution_count": 296,
   "metadata": {
    "collapsed": false
   },
   "outputs": [],
   "source": [
    "f = open('sentences.txt', 'r')\n",
    "strings = f.readlines()\n",
    "import re"
   ]
  },
  {
   "cell_type": "code",
   "execution_count": 297,
   "metadata": {
    "collapsed": false
   },
   "outputs": [],
   "source": [
    "col = len(strings)\n"
   ]
  },
  {
   "cell_type": "code",
   "execution_count": 298,
   "metadata": {
    "collapsed": false
   },
   "outputs": [],
   "source": [
    "words = []\n",
    "for line in strings:\n",
    "    line = line.lower()\n",
    "    line = re.split('[^a-z]', line)\n",
    "    words.append(line)  \n"
   ]
  },
  {
   "cell_type": "code",
   "execution_count": 299,
   "metadata": {
    "collapsed": false
   },
   "outputs": [],
   "source": [
    "dictionary = dict()\n",
    "allwords =  set()\n",
    "for sentence in words:\n",
    "    for word in sentence:\n",
    "        allwords.add(word)"
   ]
  },
  {
   "cell_type": "code",
   "execution_count": 300,
   "metadata": {
    "collapsed": false
   },
   "outputs": [],
   "source": [
    "dictionary = dict(zip(allwords, range(len(allwords))))"
   ]
  },
  {
   "cell_type": "code",
   "execution_count": 301,
   "metadata": {
    "collapsed": false
   },
   "outputs": [],
   "source": [
    "import numpy as np"
   ]
  },
  {
   "cell_type": "code",
   "execution_count": 302,
   "metadata": {
    "collapsed": false
   },
   "outputs": [],
   "source": [
    "matr = np.zeros([col,len(allwords)-1])\n",
    "i = 0\n",
    "for sentence in words:\n",
    "    for word in sentence:\n",
    "        j = dictionary[word]\n",
    "        if j!=0:\n",
    "            matr[i][j-1] = matr[i][j-1] + 1\n",
    "    i = i + 1"
   ]
  },
  {
   "cell_type": "code",
   "execution_count": 303,
   "metadata": {
    "collapsed": false,
    "scrolled": true
   },
   "outputs": [],
   "source": [
    "dist = []\n",
    "import scipy\n",
    "a = matr[0]\n",
    "for i in range(0, col):\n",
    "    dist.append(scipy.spatial.distance.cosine(a, matr[i]))"
   ]
  },
  {
   "cell_type": "code",
   "execution_count": 304,
   "metadata": {
    "collapsed": false
   },
   "outputs": [
    {
     "name": "stdout",
     "output_type": "stream",
     "text": [
      "[(0.0, 0), (0.7327387580875756, 6), (0.77708871496985887, 4), (0.82503644694405864, 21), (0.83281653622739416, 10), (0.83964325485254543, 12), (0.84063618542208085, 16), (0.84275727449171223, 20), (0.86447381456421235, 2), (0.87035925528956715, 13), (0.87401184233025764, 14), (0.88047713906656067, 11), (0.88427248752843102, 8), (0.88854435748492944, 19), (0.89517151632780823, 3), (0.90550888174769317, 9), (0.92587506833388988, 7), (0.94023856953328033, 5), (0.94427217874246472, 15), (0.94427217874246472, 18), (0.95275444087384664, 1), (0.95664450152379399, 17)]\n"
     ]
    }
   ],
   "source": [
    "dsort = dict()\n",
    "dsort = zip(dist, range(len(dist)))\n",
    "dsort.sort()\n",
    "print dsort"
   ]
  },
  {
   "cell_type": "code",
   "execution_count": null,
   "metadata": {
    "collapsed": true
   },
   "outputs": [],
   "source": []
  }
 ],
 "metadata": {
  "kernelspec": {
   "display_name": "Python 2",
   "language": "python",
   "name": "python2"
  },
  "language_info": {
   "codemirror_mode": {
    "name": "ipython",
    "version": 2
   },
   "file_extension": ".py",
   "mimetype": "text/x-python",
   "name": "python",
   "nbconvert_exporter": "python",
   "pygments_lexer": "ipython2",
   "version": "2.7.12"
  }
 },
 "nbformat": 4,
 "nbformat_minor": 0
}
